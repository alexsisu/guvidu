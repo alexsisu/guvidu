{
 "cells": [
  {
   "cell_type": "code",
   "execution_count": null,
   "metadata": {},
   "outputs": [],
   "source": [
    "!git clone https://github.com/CSSEGISandData/COVID-19"
   ]
  },
  {
   "cell_type": "code",
   "execution_count": null,
   "metadata": {},
   "outputs": [],
   "source": []
  },
  {
   "cell_type": "code",
   "execution_count": 7,
   "metadata": {},
   "outputs": [
    {
     "name": "stdout",
     "output_type": "stream",
     "text": [
      "Forecasted number of infected(next 10 days):\n",
      "[ 246.63007056  309.36469854  387.66249067  485.38434618  607.34897362\n",
      "  759.57050345  949.5550476  1186.67082915 1482.61013365 1851.96586093\n",
      " 2312.95110759]\n"
     ]
    },
    {
     "data": {
      "image/png": "[encoded data removed]",
      "text/plain": [
       "<Figure size 432x288 with 1 Axes>"
      ]
     },
     "metadata": {
      "needs_background": "light"
     },
     "output_type": "display_data"
    }
   ],
   "source": [
    "import numpy as np\n",
    "from scipy.optimize import curve_fit\n",
    "import matplotlib.pyplot as plt\n",
    "import os\n",
    "import pandas as pd\n",
    "\n",
    "\n",
    "info_path = \"/Users/alexsisu/work_phd/COVID-19/csse_covid_19_data/csse_covid_19_daily_reports\"\n",
    "\n",
    "all_data = []\n",
    "all_files = []\n",
    "for csv_file in os.listdir(info_path):\n",
    "    if not csv_file.strip().endswith(\".csv\"): continue\n",
    "    all_files.append(csv_file)\n",
    "\n",
    "all_files = sorted(all_files)\n",
    "for csv_file in all_files:\n",
    "    if not csv_file.strip().endswith(\".csv\"): continue\n",
    "    full_path = os.path.join(info_path, csv_file)\n",
    "    df = pd.read_csv(full_path)\n",
    "    df = df[(df[\"Country/Region\"] == \"Romania\")]\n",
    "    df = df[[\"Confirmed\"]]\n",
    "#    print(df[\"Confirmed\"].values)\n",
    "    if (len(df)):\n",
    "        all_data.append(df[\"Confirmed\"].values[0])\n",
    "\n",
    "#print(all_data)\n",
    "all_data.append(246) # number of infected from 18 March\n",
    "plt.show()\n",
    "\n",
    "\n",
    "\n",
    "def func_exp(x, a, b, c):\n",
    "    return a * np.exp(b * x) + c\n",
    "\n",
    "\n",
    "def exponential_regression(x_data, y_data):\n",
    "    popt, pcov = curve_fit(func_exp, x_data, y_data, p0=(0, 0.01, 10))\n",
    "#    print(popt)\n",
    "    plt.plot(x_data, y_data, 'x', color='xkcd:maroon', label=\"days\")\n",
    "\n",
    "    inferred = func_exp(x_data, *popt)\n",
    "    plt.plot(x_data, inferred, color='xkcd:teal',\n",
    "                   label=\"fit: {:.3f}, {:.3f}, {:.3f}\".format(*popt))\n",
    "\n",
    "    future = np.arange(len(x_data)-1,len(x_data)+10)\n",
    "    inferred2 = func_exp(future, *popt)\n",
    "    print(\"Forecasted number of infected(next 10 days):\")\n",
    "    print(inferred2)\n",
    "    plt.plot(future, inferred2, color='xkcd:red',\n",
    "                   label=\"fit: {:.3f}, {:.3f}, {:.3f}\".format(*popt))\n",
    "\n",
    "    plt.legend()\n",
    "    plt.show()\n",
    "\n",
    "\n",
    "\n",
    "x_data = np.arange(0, len(all_data))\n",
    "y_data = np.array(all_data)\n",
    "exponential_regression(x_data, y_data)\n"
   ]
  }
 ],
 "metadata": {
  "kernelspec": {
   "display_name": "Python 3",
   "language": "python",
   "name": "python3"
  },
  "language_info": {
   "codemirror_mode": {
    "name": "ipython",
    "version": 3
   },
   "file_extension": ".py",
   "mimetype": "text/x-python",
   "name": "python",
   "nbconvert_exporter": "python",
   "pygments_lexer": "ipython3",
   "version": "3.7.3"
  }
 },
 "nbformat": 4,
 "nbformat_minor": 2
}
